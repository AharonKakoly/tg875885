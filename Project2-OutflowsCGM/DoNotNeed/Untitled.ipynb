{
 "cells": [
  {
   "cell_type": "code",
   "execution_count": 5,
   "id": "8420bf8e-c7ee-4e7a-a991-620e4fa08246",
   "metadata": {},
   "outputs": [],
   "source": [
    "import multiprocessing\n",
    "import os\n",
    "def cross_sections_by_attentuation_loop(multipleProcs=4):\n",
    "  pool = multiprocessing.Pool(processes=multipleProcs,maxtasksperchild=1)\n",
    "  for i in range(0,3):\n",
    "      pool.apply_async(aaa,(i,))\n",
    "  pool.close()\n",
    "   \n",
    "def aaa(i):\n",
    "    print(i**2)\n",
    "    print(\"====process id: %d\\n\"%(os.getpid()))"
   ]
  },
  {
   "cell_type": "code",
   "execution_count": 6,
   "id": "b18e19a7-7e10-400b-b13d-e434c5427dce",
   "metadata": {},
   "outputs": [
    {
     "name": "stdout",
     "output_type": "stream",
     "text": [
      "0\n",
      "14====process id: 153539\n",
      "\n",
      "\n",
      "\n",
      "====process id: 153540\n",
      "====process id: 153541\n",
      "\n",
      "\n"
     ]
    }
   ],
   "source": [
    "cross_sections_by_attentuation_loop()"
   ]
  },
  {
   "cell_type": "code",
   "execution_count": null,
   "id": "649ba92b-ce3a-43ce-8d3d-038c360ebc59",
   "metadata": {},
   "outputs": [],
   "source": []
  }
 ],
 "metadata": {
  "kernelspec": {
   "display_name": "Python 3 (ipykernel)",
   "language": "python",
   "name": "python3"
  },
  "language_info": {
   "codemirror_mode": {
    "name": "ipython",
    "version": 3
   },
   "file_extension": ".py",
   "mimetype": "text/x-python",
   "name": "python",
   "nbconvert_exporter": "python",
   "pygments_lexer": "ipython3",
   "version": "3.9.5"
  }
 },
 "nbformat": 4,
 "nbformat_minor": 5
}
