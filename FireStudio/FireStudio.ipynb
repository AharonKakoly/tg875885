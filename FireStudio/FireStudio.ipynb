{
 "cells": [
  {
   "cell_type": "code",
   "execution_count": 1,
   "id": "cc13b63e-8d3d-4afd-955e-f27279ed807e",
   "metadata": {},
   "outputs": [
    {
     "ename": "IndentationError",
     "evalue": "unexpected indent (1117656230.py, line 19)",
     "output_type": "error",
     "traceback": [
      "\u001b[0;36m  File \u001b[0;32m\"/tmp/ipykernel_109908/1117656230.py\"\u001b[0;36m, line \u001b[0;32m19\u001b[0m\n\u001b[0;31m    min_quantity=2,\u001b[0m\n\u001b[0m    ^\u001b[0m\n\u001b[0;31mIndentationError\u001b[0m\u001b[0;31m:\u001b[0m unexpected indent\n"
     ]
    }
   ],
   "source": [
    "from firestudio.studios.gas_studio import GasStudio\n",
    "\n",
    "my_gasStudio = GasStudio(\n",
    "    datadir, ## where cache files are written out to, not the simulation directory\n",
    "    snapnum, ## what snapshot number, used to name cache files\n",
    "    sim_name, ## what simulation name, used to name cache files\n",
    "    frame_half_width=15, ## kpc, half width of image in x- and y-directions\n",
    "    frame_half_thickness=15, ## kpc, half thickness of image in z-direction\n",
    "    gas_snapdict=gas_snapdict, ## dictionary containing gas particle data\n",
    "    star_snapdict=star_snapdict) ## dictionary containing star particle data\n",
    "        \n",
    "my_gasStudio.render(\n",
    "    plt.gca(),\n",
    "    weight_name='Masses',\n",
    "    quantity_name='Temperature',\n",
    "    min_weight=-0.1,\n",
    "    max_weight=1.5,\n",
    "    weight_adjustment_function=lambda x: np.log10(x/gasStudio.Acell)+10-6) ## msun/pc^2\n",
    "    min_quantity=2,\n",
    "    max_quantity=7,\n",
    "    quantity_adjustment_function=np.log10)\n",
    "    \n",
    "from firestudio.studios.star_studio import StarStudio\n",
    "\n",
    "my_starStudio = StarStudio(\n",
    "    datadir, ## where cache files are written out to, not the simulation directory\n",
    "    snapnum, ## what snapshot number, used to name cache files\n",
    "    sim_name, ## what simulation name, used to name cache files\n",
    "    frame_half_width=15, ## kpc, half width of image in x- and y-directions\n",
    "    frame_half_thickness=15, ## kpc, half thickness of image in z-direction\n",
    "    gas_snapdict=gas_snapdict) ## dictionary containing gas particle data\n",
    "    \n",
    "my_starStudio.render(plt.gca())"
   ]
  },
  {
   "cell_type": "code",
   "execution_count": null,
   "id": "35822772-72af-473d-af85-287622041fe6",
   "metadata": {},
   "outputs": [],
   "source": []
  }
 ],
 "metadata": {
  "kernelspec": {
   "display_name": "Python 3 (ipykernel)",
   "language": "python",
   "name": "python3"
  },
  "language_info": {
   "codemirror_mode": {
    "name": "ipython",
    "version": 3
   },
   "file_extension": ".py",
   "mimetype": "text/x-python",
   "name": "python",
   "nbconvert_exporter": "python",
   "pygments_lexer": "ipython3",
   "version": "3.9.5"
  }
 },
 "nbformat": 4,
 "nbformat_minor": 5
}
