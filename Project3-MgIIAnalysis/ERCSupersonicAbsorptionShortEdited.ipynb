{
 "cells": [
  {
   "cell_type": "code",
   "execution_count": 2,
   "id": "daae4592-f164-47c2-9463-c7421825b48f",
   "metadata": {},
   "outputs": [],
   "source": [
    "# Import of important libraries\n",
    "### /home1/08289/tg875885/radial_to_rotating_flows/Aharon/Trident ###\n",
    "import numpy as np\n",
    "import yt\n",
    "import trident\n",
    "import unyt\n",
    "import pylab as pl\n",
    "from astropy import units as un, constants as cons\n",
    "from numpy import log10 as log\n",
    "import h5py\n",
    "from scipy.spatial.transform import Rotation"
   ]
  },
  {
   "cell_type": "markdown",
   "id": "577785c9-7a66-485b-a3f3-44c21e7f4d54",
   "metadata": {
    "tags": []
   },
   "source": [
    "# Parameters"
   ]
  },
  {
   "cell_type": "code",
   "execution_count": 1,
   "id": "ab0d84f1-9ab7-4c44-8686-6519f96b8452",
   "metadata": {},
   "outputs": [
    {
     "name": "stdout",
     "output_type": "stream",
     "text": [
      "The snapshot number is: 206\n",
      "The redshift of the given snapshot is: z= 1.5819671420461177\n",
      "The scale factor of the given snapshot is: a= 0.3873015979620621\n"
     ]
    }
   ],
   "source": [
    "# Filetree, snapshot directories and its redshift\n",
    "SnapshotNumber=206\n",
    "Snapshot_fps=('/scratch/projects/xsede/GalaxiesOnFIRE/metal_diffusion/m12b_r7100/output/snapdir_206/snapshot_206.0.hdf5',\n",
    "              '/scratch/projects/xsede/GalaxiesOnFIRE/metal_diffusion/m12b_r7100/output/snapdir_206/snapshot_206.1.hdf5',\n",
    "              '/scratch/projects/xsede/GalaxiesOnFIRE/metal_diffusion/m12b_r7100/output/snapdir_206/snapshot_206.2.hdf5',\n",
    "              '/scratch/projects/xsede/GalaxiesOnFIRE/metal_diffusion/m12b_r7100/output/snapdir_206/snapshot_206.3.hdf5',\n",
    "              '/scratch/projects/xsede/GalaxiesOnFIRE/metal_diffusion/m12b_r7100/output/snapdir_206/snapshot_206.4.hdf5',\n",
    "              '/scratch/projects/xsede/GalaxiesOnFIRE/metal_diffusion/m12b_r7100/output/snapdir_206/snapshot_206.5.hdf5',\n",
    "              '/scratch/projects/xsede/GalaxiesOnFIRE/metal_diffusion/m12b_r7100/output/snapdir_206/snapshot_206.6.hdf5',\n",
    "              '/scratch/projects/xsede/GalaxiesOnFIRE/metal_diffusion/m12b_r7100/output/snapdir_206/snapshot_206.7.hdf5') # Snapshot Files\n",
    "print(\"The snapshot number is:\",SnapshotNumber)\n",
    "ray_fp='trident_ray.h5' # The name of the ray that will be created\n",
    "z=1.5819671420461177 # The redshift of the given snapshot\n",
    "print(\"The redshift of the given snapshot is: z=\",z)\n",
    "a=(z+1)**-1 # The scale factor for this redshift\n",
    "print(\"The scale factor of the given snapshot is: a=\",a)"
   ]
  },
  {
   "cell_type": "code",
   "execution_count": 3,
   "id": "5ad408d7-4fef-43b0-ae6e-4e8df8c2c765",
   "metadata": {},
   "outputs": [
    {
     "name": "stdout",
     "output_type": "stream",
     "text": [
      "The virial radius is: 71.06209719407916 kpc\n",
      "The center coordinates are: [28688.8551165 29566.0848924 28735.075096 ]\n",
      "The angular momentum is: [ 0.6493 -0.6628 -0.373 ]\n"
     ]
    }
   ],
   "source": [
    "# Manual input of halo data parameters (units are kpc)\n",
    "Rvir=71.06209719407916 # The virial radius of the given snapshot\n",
    "print(\"The virial radius is:\",Rvir,\"kpc\")\n",
    "HaloCenterCoordinates=np.array([28688.8551165,29566.0848924,28735.075096]) # The center coordinates of the halo\n",
    "print(\"The center coordinates are:\",HaloCenterCoordinates)\n",
    "Jvector=np.array([0.6493,-0.6628,-0.373]) # The angular momentum vector of the halo\n",
    "print(\"The angular momentum is:\",Jvector)"
   ]
  },
  {
   "cell_type": "code",
   "execution_count": 4,
   "id": "b466ef16",
   "metadata": {},
   "outputs": [
    {
     "name": "stdout",
     "output_type": "stream",
     "text": [
      "The hubble parameter of the given snapshot is: 0.702\n"
     ]
    }
   ],
   "source": [
    "# Insert the snapshot files into a list and calculate the hubble parameter for the given halo\n",
    "fs=[h5py.File(Snapshot_fp) for Snapshot_fp in Snapshot_fps] # List of HDF5 files of the snapshot\n",
    "HubbleParameter=fs[0]['Header'].attrs['HubbleParam'] # Hubble parameter of the given snapshot\n",
    "print(\"The hubble parameter of the given snapshot is:\",HubbleParameter)"
   ]
  },
  {
   "cell_type": "code",
   "execution_count": 5,
   "id": "906f5618",
   "metadata": {},
   "outputs": [
    {
     "name": "stdout",
     "output_type": "stream",
     "text": [
      "The normalized J vector is: [ 0.64929243 -0.66279227 -0.37299565]\n",
      "The cross product of J vector with (0,1,0) is: [ 0.37299565 -0.          0.64929243]\n",
      "The normalized crossed product multiply by arcsin of the norm is: [-0.42153837  0.         -0.73379319]\n"
     ]
    }
   ],
   "source": [
    "# The angular momentum vector\n",
    "Jvector=Jvector/np.linalg.norm(Jvector) # Normalize the angular momentum vector\n",
    "print(\"The normalized J vector is:\",Jvector)\n",
    "rotvec=np.cross(Jvector,np.array([0,1,0])) # Cross between the angular momentum vector and the vector (0,1,0)\n",
    "print(\"The cross product of J vector with (0,1,0) is:\",rotvec)\n",
    "sin_theta=np.linalg.norm(rotvec) # The norm of the crossed vector\n",
    "rotvec_normed=-rotvec/sin_theta*np.arcsin(sin_theta) # Normalize the crossed vector and multiply it by arcsin of the norm \n",
    "                                                     # The minus sign is to be consistent with direction bug\n",
    "print(\"The normalized crossed product multiply by arcsin of the norm is:\",rotvec_normed)\n",
    "rot1=Rotation.from_rotvec(rotvec_normed) # An object containing the rotations is represented by rotvec_normed vector "
   ]
  },
  {
   "cell_type": "code",
   "execution_count": 6,
   "id": "31ab3e00",
   "metadata": {},
   "outputs": [
    {
     "name": "stdout",
     "output_type": "stream",
     "text": [
      "x_hat vector is: [0.74646222 0.64929243 0.14564853]\n",
      "y_hat vector is: [-0.64929243  0.66279227  0.37299565]\n",
      "J vector is: [ 0.64929243 -0.66279227 -0.37299565]\n",
      "x_hat and y_hat are not orthogonal\n",
      "y_hat should be the same as J vector, but they are not due to direction bug in projection plot in ICV paper\n"
     ]
    }
   ],
   "source": [
    "# x hat and y hat vectors of rot1 vector and compariosn to J vector\n",
    "x_hat=rot1.apply(np.array([1,0,0]),inverse=True) # Direction vector in x axis\n",
    "y_hat=rot1.apply(np.array([0,1,0]),inverse=True) # Direction vector in y axis\n",
    "print(\"x_hat vector is:\",x_hat)\n",
    "print(\"y_hat vector is:\",y_hat)\n",
    "print(\"J vector is:\",Jvector)\n",
    "if(np.dot(x_hat,y_hat)==0):\n",
    "    print(\"x_hat and y_hat are orthogonal\")\n",
    "else:\n",
    "    print(\"x_hat and y_hat are not orthogonal\")\n",
    "print(\"y_hat should be the same as J vector, but they are not due to direction bug in projection plot in ICV paper\")"
   ]
  },
  {
   "cell_type": "code",
   "execution_count": 7,
   "id": "f5031529-ff21-42e7-83f4-d11dcce2affe",
   "metadata": {},
   "outputs": [
    {
     "name": "stdout",
     "output_type": "stream",
     "text": [
      "The path length is: 28.424838877631665 kpc\n",
      "The half path length is: 14.212419438815832 kpc\n"
     ]
    }
   ],
   "source": [
    "# Sightline parameters\n",
    "# Sightline is impact_parameter offset from the center along the z-axis, runs perpendicular to the z-axis, and has a length of path_length\n",
    "path_length=0.4*Rvir\n",
    "print(\"The path length is:\",path_length,\"kpc\")\n",
    "d=path_length/2\n",
    "print(\"The half path length is:\",d,\"kpc\")"
   ]
  },
  {
   "cell_type": "code",
   "execution_count": 8,
   "id": "55fb52fe",
   "metadata": {},
   "outputs": [
    {
     "name": "stdout",
     "output_type": "stream",
     "text": [
      "The particles coordinates are:\n",
      " [[-12860.85350781 -13253.90430622 -12882.83915349]\n",
      " [-12860.89342294 -13253.88176987 -12882.84385345]\n",
      " [-12860.90163144 -13253.90971789 -12882.84408847]\n",
      " ...\n",
      " [-13294.99680124 -12662.54006754 -12991.99628828]\n",
      " [-13294.45797538 -12665.82852627 -12989.04426141]\n",
      " [-13300.3063791  -12664.13109793 -12991.32257816]]\n",
      "\n",
      "The particles rotated coordinates are:\n",
      " [[-20082.16757427  -5239.37347886  -8734.44835295]\n",
      " [-20082.18342127  -5239.33437841  -8734.46687921]\n",
      " [-20082.20772927  -5239.34766009  -8734.45786562]\n",
      " ...\n",
      " [-20038.16939744  -4606.25101765  -9118.28093577]\n",
      " [-20039.47239727  -4607.67934503  -9114.27084487]\n",
      " [-20043.06771583  -4603.60678065  -9117.84347974]]\n"
     ]
    }
   ],
   "source": [
    "# Extract the particles coordinates data from all snapshots parts\n",
    "coords=np.concatenate([f['PartType0']['Coordinates'][:] for f in fs],axis=0)/HubbleParameter*a-HaloCenterCoordinates # Merge all the particles coordinates relative to the center of the halo to one array\n",
    "print(\"The particles coordinates are:\\n\",coords)\n",
    "print(\"\")\n",
    "# Rotate the particles coordinates\n",
    "rot_coords=rot1.apply(coords)\n",
    "print(\"The particles rotated coordinates are:\\n\",rot_coords)"
   ]
  },
  {
   "cell_type": "code",
   "execution_count": 9,
   "id": "5ff55bdd",
   "metadata": {},
   "outputs": [
    {
     "name": "stdout",
     "output_type": "stream",
     "text": [
      "The particles internal energies are:\n",
      " [ 76.73263     4.1838555 209.86205   ... 125.18579   120.488144\n",
      " 123.674385 ]\n",
      "\n",
      "The particles Ts are:\n",
      " [ 3842.333     209.50366 10508.696   ...  6268.592    6033.3604\n",
      "  6192.909  ]\n"
     ]
    }
   ],
   "source": [
    "# Extract the particles internal energy data from all snapshots parts and calculate their Ts\n",
    "epsilons=np.concatenate([f['PartType0']['InternalEnergy'][:] for f in fs],axis=0)[:]\n",
    "print(\"The particles internal energies are:\\n\",epsilons)\n",
    "print(\"\")\n",
    "Ts=(un.km**2/un.s**2*cons.m_p/cons.k_B).to('K').value*(2./3*0.62)*epsilons \n",
    "print(\"The particles Ts are:\\n\",Ts)"
   ]
  },
  {
   "cell_type": "code",
   "execution_count": 10,
   "id": "72603b0f",
   "metadata": {},
   "outputs": [
    {
     "name": "stdout",
     "output_type": "stream",
     "text": [
      "The particles smoothing lengths are:\n",
      " [ 0.08457942  0.04467753  0.04911519 ... 18.682768   18.685026\n",
      " 18.815834  ]\n",
      "\n",
      "The particles masses are:\n",
      " [5.8387161e-07 5.7199185e-07 5.8684327e-07 ... 4.9612282e-07 4.9612282e-07\n",
      " 4.9612282e-07]\n",
      "\n",
      "The particles densities are:\n",
      " [7.3290970e-03 4.9030788e-02 3.7853215e-02 ... 5.8099098e-10 5.8075023e-10\n",
      " 5.6855037e-10]\n"
     ]
    }
   ],
   "source": [
    "# Extract more data of the particles\n",
    "ls=np.concatenate([f['PartType0']['SmoothingLength'][:] for f in fs],axis=0)[:]\n",
    "print(\"The particles smoothing lengths are:\\n\",ls)\n",
    "print(\"\")\n",
    "Ms=np.concatenate([f['PartType0']['Masses'][:] for f in fs],axis=0)[:]\n",
    "print(\"The particles masses are:\\n\",Ms)\n",
    "print(\"\")\n",
    "rhos=np.concatenate([f['PartType0']['Density'][:] for f in fs],axis=0)[:]\n",
    "print(\"The particles densities are:\\n\",rhos)"
   ]
  },
  {
   "cell_type": "code",
   "execution_count": 21,
   "id": "135020ed",
   "metadata": {},
   "outputs": [
    {
     "name": "stdout",
     "output_type": "stream",
     "text": [
      "The impact parameter is: 100 kpc\n",
      "z_hat is: [ 0.14564853 -0.37299565  0.91633005]\n",
      "z_hat offset is: [-0.29129706  0.7459913  -1.83266009]\n",
      "The sightline center point is: [28623.63457683 29633.11011056 28770.54200081]\n",
      "The sightline start point is: [28613.02554262 29623.88209426 28768.47198281]\n",
      "The sightline end point is: [28634.24361105 29642.33812685 28772.61201881]\n"
     ]
    }
   ],
   "source": [
    "# Calculate the impact parameter, z_hat, z_offset, and the sightline start, center, and end point\n",
    "impact_parameter=100\n",
    "print(\"The impact parameter is:\",impact_parameter,\"kpc\")\n",
    "z_hat=np.cross(x_hat,y_hat)\n",
    "print(\"z_hat is:\",z_hat)\n",
    "z_offset=-2*z_hat\n",
    "print(\"z_hat offset is:\",z_offset)\n",
    "sl_center=HaloCenterCoordinates+impact_parameter*y_hat+z_offset\n",
    "print(\"The sightline center point is:\",sl_center)\n",
    "sl_start=sl_center-path_length/2.*x_hat\n",
    "print(\"The sightline start point is:\",sl_start)\n",
    "sl_end=sl_center+path_length/2.*x_hat\n",
    "print(\"The sightline end point is:\",sl_end)"
   ]
  },
  {
   "cell_type": "markdown",
   "id": "6856638e-d226-4ff7-bbaa-03cc53e1a596",
   "metadata": {
    "tags": []
   },
   "source": [
    "# Generate Mock Observation"
   ]
  },
  {
   "cell_type": "code",
   "execution_count": 22,
   "id": "87926f49-adc2-4778-b36b-41805b59203f",
   "metadata": {},
   "outputs": [
    {
     "name": "stderr",
     "output_type": "stream",
     "text": [
      "yt : [INFO     ] 2023-04-29 05:15:45,416 Calculating time from 3.873e-01 to be 1.321e+17 seconds\n",
      "yt : [INFO     ] 2023-04-29 05:15:45,417 Assuming length units are in kpc/h (comoving)\n",
      "yt : [INFO     ] 2023-04-29 05:15:45,464 Parameters: current_time              = 1.3214444680781424e+17 s\n",
      "yt : [INFO     ] 2023-04-29 05:15:45,465 Parameters: domain_dimensions         = [1 1 1]\n",
      "yt : [INFO     ] 2023-04-29 05:15:45,465 Parameters: domain_left_edge          = [0. 0. 0.]\n",
      "yt : [INFO     ] 2023-04-29 05:15:45,466 Parameters: domain_right_edge         = [60000. 60000. 60000.]\n",
      "yt : [INFO     ] 2023-04-29 05:15:45,466 Parameters: cosmological_simulation   = 1\n",
      "yt : [INFO     ] 2023-04-29 05:15:45,466 Parameters: current_redshift          = 1.5819671420461177\n",
      "yt : [INFO     ] 2023-04-29 05:15:45,467 Parameters: omega_lambda              = 0.728\n",
      "yt : [INFO     ] 2023-04-29 05:15:45,467 Parameters: omega_matter              = 0.272\n",
      "yt : [INFO     ] 2023-04-29 05:15:45,467 Parameters: omega_radiation           = 0.0\n",
      "yt : [INFO     ] 2023-04-29 05:15:45,467 Parameters: hubble_constant           = 0.702\n"
     ]
    }
   ],
   "source": [
    "# Load the simulation data\n",
    "ds=yt.load(Snapshot_fps[0])"
   ]
  },
  {
   "cell_type": "code",
   "execution_count": 23,
   "id": "2b0757f1-1063-43c0-bb69-f6b28870e4a2",
   "metadata": {},
   "outputs": [],
   "source": [
    "# Get the simulation kpc unit, this avoids a bug that sometimes pops up\n",
    "kpc=ds.quan(1,'kpc')"
   ]
  },
  {
   "cell_type": "code",
   "execution_count": 24,
   "id": "3f4665ce-bd96-4ce2-8290-86d99493d184",
   "metadata": {},
   "outputs": [],
   "source": [
    "# Other parameters\n",
    "line_list=['H'] # ['H', 'C', 'N', 'O','Mg','Si']"
   ]
  },
  {
   "cell_type": "code",
   "execution_count": 25,
   "id": "5c8bd55d-664b-4f0b-a5ee-f408dc45c2b3",
   "metadata": {},
   "outputs": [
    {
     "name": "stderr",
     "output_type": "stream",
     "text": [
      "yt : [INFO     ] 2023-04-29 05:15:47,559 Allocating for 1.559e+08 particles\n",
      "Initializing coarse index : 100%|███████| 288/288 [00:20<00:00, 13.75it/s]\n",
      "yt : [INFO     ] 2023-04-29 05:16:08,514 Updating index_order2 from 2 to 2\n",
      "Initializing refined index: 100%|███████| 288/288 [00:58<00:00,  4.93it/s]\n",
      "yt : [INFO     ] 2023-04-29 05:17:08,948 Getting segment at z = 1.5819671420461177: [0.86437133 0.89490832 0.86906722] unitary to [0.86501231 0.89546585 0.86919228] unitary.\n",
      "yt : [INFO     ] 2023-04-29 05:17:08,949 Getting subsegment: [0.86437133 0.89490832 0.86906722] unitary to [0.86501231 0.89546585 0.86919228] unitary.\n"
     ]
    },
    {
     "ename": "RuntimeError",
     "evalue": "No zones along light ray with nonzero ('gas', 'temperature'). Please modify your light ray trajectory.",
     "output_type": "error",
     "traceback": [
      "\u001b[0;31m---------------------------------------------------------------------------\u001b[0m",
      "\u001b[0;31mRuntimeError\u001b[0m                              Traceback (most recent call last)",
      "\u001b[0;32m/tmp/ipykernel_222192/2954961778.py\u001b[0m in \u001b[0;36m<module>\u001b[0;34m\u001b[0m\n\u001b[0;32m----> 1\u001b[0;31m ray = trident.make_simple_ray(ds,\n\u001b[0m\u001b[1;32m      2\u001b[0m                               \u001b[0mstart_position\u001b[0m\u001b[0;34m=\u001b[0m\u001b[0msl_start\u001b[0m\u001b[0;34m*\u001b[0m\u001b[0mkpc\u001b[0m\u001b[0;34m,\u001b[0m\u001b[0;34m\u001b[0m\u001b[0;34m\u001b[0m\u001b[0m\n\u001b[1;32m      3\u001b[0m                               \u001b[0mend_position\u001b[0m\u001b[0;34m=\u001b[0m\u001b[0msl_end\u001b[0m\u001b[0;34m*\u001b[0m\u001b[0mkpc\u001b[0m\u001b[0;34m,\u001b[0m\u001b[0;34m\u001b[0m\u001b[0;34m\u001b[0m\u001b[0m\n\u001b[1;32m      4\u001b[0m                               \u001b[0mdata_filename\u001b[0m\u001b[0;34m=\u001b[0m\u001b[0mray_fp\u001b[0m\u001b[0;34m,\u001b[0m\u001b[0;34m\u001b[0m\u001b[0;34m\u001b[0m\u001b[0m\n\u001b[1;32m      5\u001b[0m                               lines=line_list)\n",
      "\u001b[0;32m/work2/08289/tg875885/stampede2/miniconda3/lib/python3.9/site-packages/trident/ray_generator.py\u001b[0m in \u001b[0;36mmake_simple_ray\u001b[0;34m(dataset_file, start_position, end_position, lines, ftype, fields, solution_filename, data_filename, trajectory, redshift, field_parameters, setup_function, load_kwargs, line_database, ionization_table)\u001b[0m\n\u001b[1;32m    224\u001b[0m     \u001b[0mfields\u001b[0m \u001b[0;34m=\u001b[0m \u001b[0muniquify\u001b[0m\u001b[0;34m(\u001b[0m\u001b[0mfields\u001b[0m\u001b[0;34m)\u001b[0m\u001b[0;34m\u001b[0m\u001b[0;34m\u001b[0m\u001b[0m\n\u001b[1;32m    225\u001b[0m \u001b[0;34m\u001b[0m\u001b[0m\n\u001b[0;32m--> 226\u001b[0;31m     return lr.make_light_ray(start_position=start_position,\n\u001b[0m\u001b[1;32m    227\u001b[0m                              \u001b[0mend_position\u001b[0m\u001b[0;34m=\u001b[0m\u001b[0mend_position\u001b[0m\u001b[0;34m,\u001b[0m\u001b[0;34m\u001b[0m\u001b[0;34m\u001b[0m\u001b[0m\n\u001b[1;32m    228\u001b[0m                              \u001b[0mtrajectory\u001b[0m\u001b[0;34m=\u001b[0m\u001b[0mtrajectory\u001b[0m\u001b[0;34m,\u001b[0m\u001b[0;34m\u001b[0m\u001b[0;34m\u001b[0m\u001b[0m\n",
      "\u001b[0;32m/work2/08289/tg875885/stampede2/miniconda3/lib/python3.9/site-packages/trident/light_ray.py\u001b[0m in \u001b[0;36mmake_light_ray\u001b[0;34m(self, seed, periodic, left_edge, right_edge, min_level, start_position, end_position, trajectory, fields, setup_function, solution_filename, data_filename, get_los_velocity, use_peculiar_velocity, redshift, field_parameters, njobs)\u001b[0m\n\u001b[1;32m    726\u001b[0m \u001b[0;34m\u001b[0m\u001b[0m\n\u001b[1;32m    727\u001b[0m         \u001b[0;32mif\u001b[0m \u001b[0mdata_filename\u001b[0m \u001b[0;32mis\u001b[0m \u001b[0;32mnot\u001b[0m \u001b[0;32mNone\u001b[0m\u001b[0;34m:\u001b[0m\u001b[0;34m\u001b[0m\u001b[0;34m\u001b[0m\u001b[0m\n\u001b[0;32m--> 728\u001b[0;31m             \u001b[0mself\u001b[0m\u001b[0;34m.\u001b[0m\u001b[0m_write_light_ray\u001b[0m\u001b[0;34m(\u001b[0m\u001b[0mdata_filename\u001b[0m\u001b[0;34m,\u001b[0m \u001b[0mall_data\u001b[0m\u001b[0;34m)\u001b[0m\u001b[0;34m\u001b[0m\u001b[0;34m\u001b[0m\u001b[0m\n\u001b[0m\u001b[1;32m    729\u001b[0m             \u001b[0mray_ds\u001b[0m \u001b[0;34m=\u001b[0m \u001b[0mYTDataLightRayDataset\u001b[0m\u001b[0;34m(\u001b[0m\u001b[0mdata_filename\u001b[0m\u001b[0;34m)\u001b[0m\u001b[0;34m\u001b[0m\u001b[0;34m\u001b[0m\u001b[0m\n\u001b[1;32m    730\u001b[0m \u001b[0;34m\u001b[0m\u001b[0m\n",
      "\u001b[0;32m~/.local/lib/python3.9/site-packages/yt/utilities/parallel_tools/parallel_analysis_interface.py\u001b[0m in \u001b[0;36mroot_only\u001b[0;34m(*args, **kwargs)\u001b[0m\n\u001b[1;32m    325\u001b[0m     \u001b[0;32mdef\u001b[0m \u001b[0mroot_only\u001b[0m\u001b[0;34m(\u001b[0m\u001b[0;34m*\u001b[0m\u001b[0margs\u001b[0m\u001b[0;34m,\u001b[0m \u001b[0;34m**\u001b[0m\u001b[0mkwargs\u001b[0m\u001b[0;34m)\u001b[0m\u001b[0;34m:\u001b[0m\u001b[0;34m\u001b[0m\u001b[0;34m\u001b[0m\u001b[0m\n\u001b[1;32m    326\u001b[0m         \u001b[0;32mif\u001b[0m \u001b[0;32mnot\u001b[0m \u001b[0mparallel_capable\u001b[0m\u001b[0;34m:\u001b[0m\u001b[0;34m\u001b[0m\u001b[0;34m\u001b[0m\u001b[0m\n\u001b[0;32m--> 327\u001b[0;31m             \u001b[0;32mreturn\u001b[0m \u001b[0mfunc\u001b[0m\u001b[0;34m(\u001b[0m\u001b[0;34m*\u001b[0m\u001b[0margs\u001b[0m\u001b[0;34m,\u001b[0m \u001b[0;34m**\u001b[0m\u001b[0mkwargs\u001b[0m\u001b[0;34m)\u001b[0m\u001b[0;34m\u001b[0m\u001b[0;34m\u001b[0m\u001b[0m\n\u001b[0m\u001b[1;32m    328\u001b[0m         \u001b[0mcomm\u001b[0m \u001b[0;34m=\u001b[0m \u001b[0m_get_comm\u001b[0m\u001b[0;34m(\u001b[0m\u001b[0margs\u001b[0m\u001b[0;34m)\u001b[0m\u001b[0;34m\u001b[0m\u001b[0;34m\u001b[0m\u001b[0m\n\u001b[1;32m    329\u001b[0m         \u001b[0mrv\u001b[0m \u001b[0;34m=\u001b[0m \u001b[0;32mNone\u001b[0m\u001b[0;34m\u001b[0m\u001b[0;34m\u001b[0m\u001b[0m\n",
      "\u001b[0;32m/work2/08289/tg875885/stampede2/miniconda3/lib/python3.9/site-packages/trident/light_ray.py\u001b[0m in \u001b[0;36m_write_light_ray\u001b[0;34m(self, filename, data)\u001b[0m\n\u001b[1;32m    798\u001b[0m             \u001b[0mmask\u001b[0m \u001b[0;34m=\u001b[0m \u001b[0mdata\u001b[0m\u001b[0;34m[\u001b[0m\u001b[0mf\u001b[0m\u001b[0;34m]\u001b[0m \u001b[0;34m>\u001b[0m \u001b[0;36m0\u001b[0m\u001b[0;34m\u001b[0m\u001b[0;34m\u001b[0m\u001b[0m\n\u001b[1;32m    799\u001b[0m             \u001b[0;32mif\u001b[0m \u001b[0;32mnot\u001b[0m \u001b[0mnp\u001b[0m\u001b[0;34m.\u001b[0m\u001b[0many\u001b[0m\u001b[0;34m(\u001b[0m\u001b[0mmask\u001b[0m\u001b[0;34m)\u001b[0m\u001b[0;34m:\u001b[0m\u001b[0;34m\u001b[0m\u001b[0;34m\u001b[0m\u001b[0m\n\u001b[0;32m--> 800\u001b[0;31m                 raise RuntimeError(\n\u001b[0m\u001b[1;32m    801\u001b[0m                     \u001b[0;34m\"No zones along light ray with nonzero %s. \"\u001b[0m\u001b[0;34m\u001b[0m\u001b[0;34m\u001b[0m\u001b[0m\n\u001b[1;32m    802\u001b[0m                     \"Please modify your light ray trajectory.\" % (f,))\n",
      "\u001b[0;31mRuntimeError\u001b[0m: No zones along light ray with nonzero ('gas', 'temperature'). Please modify your light ray trajectory."
     ]
    }
   ],
   "source": [
    "ray = trident.make_simple_ray(ds,\n",
    "                              start_position=sl_start*kpc,\n",
    "                              end_position=sl_end*kpc,\n",
    "                              data_filename=ray_fp,\n",
    "                              lines=line_list)"
   ]
  },
  {
   "cell_type": "code",
   "execution_count": null,
   "id": "b64bb5b5",
   "metadata": {},
   "outputs": [],
   "source": [
    "a = ds.scale_factor\n",
    "dlambda = 0.01\n",
    "spectral_resolutions = (2000,20000,200000)\n",
    "vs,flux = [None]*len(spectral_resolutions), [None]*len(spectral_resolutions)\n",
    "for i,spectral_resolution in enumerate(spectral_resolutions):\n",
    "    wl = 1206 #wavelength[1]\n",
    "    sg = trident.SpectrumGenerator(lambda_min = 1100/a,lambda_max = 1300/a,dlambda=dlambda, bin_space='wavelength')\n",
    "    sg.make_spectrum(ray,lines=['Si III'],store_observables = True)\n",
    "    lsf_width = wl/spectral_resolution / dlambda\n",
    "    sg.apply_lsf(function='gaussian',width=lsf_width)\n",
    "    sg.save_spectrum( 'yoyo4.h5' )\n",
    "    f = h5py.File('yoyo4.h5')\n",
    "    vs[i], flux[i] = (f['wavelength'][:]*a/wl - 1)*3e5,f['flux'][:]\n",
    "    f.close()"
   ]
  },
  {
   "cell_type": "code",
   "execution_count": null,
   "id": "9da4a998",
   "metadata": {},
   "outputs": [],
   "source": [
    "sg.line_observables_dict['Si III 1206']"
   ]
  },
  {
   "cell_type": "markdown",
   "id": "3ee21bff-f7e4-4296-9340-1debc18ee56e",
   "metadata": {},
   "source": [
    "# Plot Ray Properties"
   ]
  },
  {
   "cell_type": "code",
   "execution_count": null,
   "id": "9bbb0617-d35e-470a-945a-c40084a27b4b",
   "metadata": {},
   "outputs": [],
   "source": [
    "# Get property fields\n",
    "temp = ray.r[('gas', 'temperature')]\n",
    "dens = ray.r[('gas','H_nuclei_density')]\n",
    "#metallicity = ray.r[('gas', 'O_metallicity')]\n",
    "fsiIII = ray.r[('gas', 'Si_p2_ion_fraction')]\n",
    "vCenter = np.array([-58.64,82.05,86.61])\n",
    "vCenter_los = np.dot(vCenter,x_hat)*unyt.km/unyt.s\n",
    "vlos = ray.r[('gas','velocity_los')].to('km/s') + vCenter_los"
   ]
  },
  {
   "cell_type": "code",
   "execution_count": null,
   "id": "4c915683-db0a-47f9-93d6-c4a2c6132905",
   "metadata": {},
   "outputs": [],
   "source": [
    "# Get coordinates and convert to relevant frame\n",
    "coords = np.array([ ray.r[('gas', _)].to( 'kpc' ) for _ in ( 'x', 'y', 'z' ) ]).transpose()\n",
    "coords -= sl_center\n",
    "d_along_sightline = np.dot( coords, x_hat )"
   ]
  },
  {
   "cell_type": "code",
   "execution_count": null,
   "id": "aad67be5",
   "metadata": {},
   "outputs": [],
   "source": [
    "pl.plot(d_along_sightline,ray.r[('gas','velocity_los')].to('km/s'))\n",
    "pl.axhline(-vCenter_los)"
   ]
  },
  {
   "cell_type": "code",
   "execution_count": null,
   "id": "68084447",
   "metadata": {},
   "outputs": [],
   "source": [
    "import matplotlib\n",
    "from matplotlib import gridspec"
   ]
  },
  {
   "cell_type": "code",
   "execution_count": null,
   "id": "5c31c21f-d028-47b8-9e98-a91b4991f3ba",
   "metadata": {},
   "outputs": [],
   "source": [
    "fig = pl.figure(figsize=(7,4))\n",
    "gs = gridspec.GridSpec(nrows=2,ncols=5,wspace=0.7)\n",
    "ax = fig.add_subplot(gs[0,2:])\n",
    "ax.plot(d_along_sightline,temp,lw=0.3,c='k')\n",
    "ax.set_yscale( 'log' )\n",
    "ax.set_xlim(-30,30)\n",
    "pl.ylim(0.8e4,7e6)\n",
    "ax = fig.add_subplot(gs[1,2:])\n",
    "ax.plot(d_along_sightline,fsiIII,lw=0.3,c='k')\n",
    "ax.set_xlim(-30,30)\n",
    "ax.set_yscale( 'log' )\n",
    "pl.ylim(1e-3,1)\n",
    "ax.set_xlabel( 'distance along line-of-sight [kpc]',fontsize=9 )\n",
    "ax = fig.add_subplot(gs[1,:2])\n",
    "for i,spectral_resolution in enumerate(spectral_resolutions):\n",
    "    pl.plot(vs[i],flux[i],label=r'R=%d'%spectral_resolution)\n",
    "pl.xlim(-200,450)\n",
    "pl.legend(fontsize=8,handlelength=1,frameon=False)\n",
    "ax.set_xlabel( 'velocity [km/s]',fontsize=9 )\n",
    "ax.yaxis.set_major_locator(matplotlib.ticker.MultipleLocator(0.5))\n",
    "pl.savefig( 'sightline2.pdf' )"
   ]
  },
  {
   "cell_type": "code",
   "execution_count": null,
   "id": "32906961",
   "metadata": {},
   "outputs": [],
   "source": []
  }
 ],
 "metadata": {
  "kernelspec": {
   "display_name": "Python 3 (ipykernel)",
   "language": "python",
   "name": "python3"
  },
  "language_info": {
   "codemirror_mode": {
    "name": "ipython",
    "version": 3
   },
   "file_extension": ".py",
   "mimetype": "text/x-python",
   "name": "python",
   "nbconvert_exporter": "python",
   "pygments_lexer": "ipython3",
   "version": "3.9.5"
  }
 },
 "nbformat": 4,
 "nbformat_minor": 5
}
